{
 "cells": [
  {
   "cell_type": "markdown",
   "metadata": {},
   "source": [
    "## What is a programming language?"
   ]
  },
  {
   "cell_type": "code",
   "execution_count": 2,
   "metadata": {
    "collapsed": true
   },
   "outputs": [],
   "source": [
    "# This is how you install a package.\n",
    "import pandas"
   ]
  },
  {
   "cell_type": "code",
   "execution_count": 7,
   "metadata": {},
   "outputs": [
    {
     "name": "stdout",
     "output_type": "stream",
     "text": [
      "Hi, friend.\n"
     ]
    }
   ],
   "source": [
    "# This is a simple script with variables and printing.\n",
    "# Replace the 'name' variable with your name and hit shift+enter.\n",
    "\n",
    "welcome = 'Hi, '\n",
    "name = 'friend.'\n",
    "print (welcome + name)"
   ]
  },
  {
   "cell_type": "markdown",
   "metadata": {},
   "source": [
    "# Fundamentals"
   ]
  },
  {
   "cell_type": "code",
   "execution_count": 18,
   "metadata": {},
   "outputs": [
    {
     "name": "stdout",
     "output_type": "stream",
     "text": [
      "What number is Rogers Park?  It is 1.\n",
      "What number is Edgewater?  It is 77.\n",
      "What number is Uptown?  It is 3.\n",
      "What number is Forest Glen?  It is 12.\n",
      "What number is Rogers Park?  It is 1.\n",
      "What number is Edgewater?  It is 77.\n",
      "What number is Uptown?  It is 3.\n",
      "What number is Forest Glen?  It is 12.\n"
     ]
    }
   ],
   "source": [
    "# Variables are a way to assign a value, string or set of values or strings to a single word.\n",
    "# You should try to be specific in how you name your variables.\n",
    "\n",
    "# You're doing a story on Chicago's far north community areas. \n",
    "# Which variable names are better?\n",
    "\n",
    "communityareas = ['Rogers Park', 'Edgewater', 'Uptown', 'Forest Glen']\n",
    "numbers = [1, 77, 3, 12]\n",
    "for q, a in zip(communityareas, numbers):\n",
    "  print('What number is {0}?  It is {1}.'.format(q, a))\n",
    "\n",
    "foo = ['Rogers Park', 'Edgewater', 'Uptown', 'Forest Glen']\n",
    "bar = [1, 77, 3, 12]\n",
    "for q, a in zip(foo, bar):\n",
    "  print('What number is {0}?  It is {1}.'.format(q, a))"
   ]
  },
  {
   "cell_type": "code",
   "execution_count": 44,
   "metadata": {},
   "outputs": [],
   "source": [
    "# Types: integers, floats, strings, duples\n",
    "# Uncomment each of the lines, one by one, and hit shift+enter to see what kind of value is assigned to each variable.\n",
    "\n",
    "counter = 100\n",
    "miles   = 1000.0\n",
    "name    = \"100\"\n",
    "\n",
    "#type(counter)\n",
    "#type(miles)\n",
    "#type(name)"
   ]
  },
  {
   "cell_type": "code",
   "execution_count": 26,
   "metadata": {},
   "outputs": [
    {
     "name": "stdout",
     "output_type": "stream",
     "text": [
      "What's your name?\n",
      "nausheen\n",
      "Hello, nausheen!\n"
     ]
    }
   ],
   "source": [
    "# Functions\n",
    "# What do you think this function does?\n",
    "\n",
    "def greet(name):\n",
    "    print(\"Hello, {0}!\".format(name))\n",
    "print(\"What's your name?\")\n",
    "name = input()\n",
    "greet(name)"
   ]
  },
  {
   "cell_type": "markdown",
   "metadata": {},
   "source": [
    "## Control flow"
   ]
  },
  {
   "cell_type": "code",
   "execution_count": 29,
   "metadata": {},
   "outputs": [
    {
     "name": "stdout",
     "output_type": "stream",
     "text": [
      "5\n",
      "4\n",
      "3\n",
      "2\n",
      "1\n",
      "Blastoff!\n"
     ]
    }
   ],
   "source": [
    "# While statement\n",
    "\n",
    "time = 5\n",
    "while time > 0:\n",
    "\tprint (time)\n",
    "\ttime = time - 1\n",
    "\n",
    "print(\"Blastoff!\")"
   ]
  },
  {
   "cell_type": "code",
   "execution_count": 31,
   "metadata": {},
   "outputs": [
    {
     "name": "stdout",
     "output_type": "stream",
     "text": [
      "0.75\n",
      "2.25\n",
      "4.5\n",
      "7.5\n",
      "11.25\n",
      "15.75\n",
      "21.0\n",
      "27.0\n",
      "33.75\n",
      "41.25\n",
      "46.75\n",
      "52.75\n",
      "59.25\n",
      "66.25\n",
      "73.75\n",
      "81.75\n",
      "90.25\n",
      "99.25\n",
      "108.75\n",
      "118.75\n",
      "124.0\n",
      "129.5\n",
      "135.25\n",
      "141.25\n",
      "147.5\n",
      "154.0\n",
      "160.75\n",
      "167.75\n",
      "175.0\n"
     ]
    }
   ],
   "source": [
    "# If, elif, else\n",
    "\n",
    "total = 0\n",
    "for walnut in range(1,30):\n",
    "\tif walnut <= 10:\n",
    "\t\tcost = .75\n",
    "\telif walnut <= 20:\n",
    "\t\tcost = .50\n",
    "\telse:\n",
    "\t\tcost = .25\n",
    "\ttotal = total + (cost * walnut)\n",
    "\tprint(total)"
   ]
  },
  {
   "cell_type": "code",
   "execution_count": 33,
   "metadata": {},
   "outputs": [
    {
     "name": "stdout",
     "output_type": "stream",
     "text": [
      "Thank you!\n",
      "Talk to you soon!\n",
      "Thank you!\n",
      "Talk to you soon!\n"
     ]
    }
   ],
   "source": [
    "# Write your own loop!\n",
    "\n",
    "## Write your own loop ##\n",
    "\n",
    "#Your counter is at 0.\n",
    "#You have four sources: Emanuel, Duckworth, Pritzker, Preckwinkle.\n",
    "#For each source,\n",
    "#if the source is a woman,\n",
    "#you want to say \"something\"\n",
    "#and add one to the counter.\n",
    "#If the source is a man,\n",
    "#you want to say \"something else\"\n",
    "#and add one to the counter.\n",
    "#When you're done, you want to see the counter.\n",
    "\n",
    "counter = 0\n",
    "sources = ['Emanuel', 'Duckworth', 'Pritzker', 'Preckwinkle']\n",
    "for source in sources:\n",
    "\tif source == sources[0] or source == sources[2]:\n",
    "\t\tcounter = counter + 1\n",
    "\t\tprint(\"Thank you!\"), counter\n",
    "\telif source == sources[1] or source == sources[3]:\n",
    "\t\tcounter = counter + 1\n",
    "\t\tprint(\"Talk to you soon!\"), counter"
   ]
  },
  {
   "cell_type": "markdown",
   "metadata": {},
   "source": [
    "## Data structures"
   ]
  },
  {
   "cell_type": "code",
   "execution_count": 34,
   "metadata": {},
   "outputs": [
    {
     "name": "stdout",
     "output_type": "stream",
     "text": [
      "['ct', 606, 3.14, 'juan', 20.1]\n",
      "[606, 3.14]\n",
      "[3.14, 'juan', 20.1]\n",
      "[0, 'jamila', 0, 'jamila']\n",
      "['ct', 606, 3.14, 'juan', 20.1, 0, 'jamila']\n"
     ]
    }
   ],
   "source": [
    "# Lists\n",
    "\n",
    "list = [ 'ct', 606 , 3.14, 'juan', 20.1 ]\n",
    "tinylist = [000, 'jamila']\n",
    "\n",
    "print (list)          # Prints complete list\n",
    "print (list[1:3])     # Prints elements starting from 2nd till 3rd \n",
    "print (list[2:])      # Prints elements starting from 3rd element\n",
    "print (tinylist * 2)  # Prints list two times\n",
    "print (list + tinylist) # Prints concatenated lists"
   ]
  },
  {
   "cell_type": "code",
   "execution_count": 38,
   "metadata": {},
   "outputs": [
    {
     "name": "stdout",
     "output_type": "stream",
     "text": [
      "4139\n",
      "dict_keys(['Kori', 'Chad', 'Ryan'])\n",
      "False\n"
     ]
    }
   ],
   "source": [
    "# Dicts\n",
    "\n",
    "phone_numbers = {'Kori': 4098, 'Chad': 4139, 'Ryan': 4265}\n",
    "#print(phone_numbers['Chad'])\n",
    "#print(phone_numbers.keys())\n",
    "#print('Cecilia' in phone_numbers)"
   ]
  },
  {
   "cell_type": "markdown",
   "metadata": {},
   "source": [
    "## Troubleshooting"
   ]
  },
  {
   "cell_type": "code",
   "execution_count": 41,
   "metadata": {},
   "outputs": [
    {
     "ename": "IndentationError",
     "evalue": "expected an indented block (<ipython-input-41-187910de3fc4>, line 5)",
     "output_type": "error",
     "traceback": [
      "\u001b[0;36m  File \u001b[0;32m\"<ipython-input-41-187910de3fc4>\"\u001b[0;36m, line \u001b[0;32m5\u001b[0m\n\u001b[0;31m    print(x)\u001b[0m\n\u001b[0m        ^\u001b[0m\n\u001b[0;31mIndentationError\u001b[0m\u001b[0;31m:\u001b[0m expected an indented block\n"
     ]
    }
   ],
   "source": [
    "# Indentation error\n",
    "\n",
    "foods = ['pizza', 'naan', 'tacos']\n",
    "for x in foods:\n",
    "print(x)"
   ]
  },
  {
   "cell_type": "code",
   "execution_count": 43,
   "metadata": {},
   "outputs": [
    {
     "ename": "SyntaxError",
     "evalue": "invalid syntax (<ipython-input-43-02bd3875beeb>, line 4)",
     "output_type": "error",
     "traceback": [
      "\u001b[0;36m  File \u001b[0;32m\"<ipython-input-43-02bd3875beeb>\"\u001b[0;36m, line \u001b[0;32m4\u001b[0m\n\u001b[0;31m    for x in foods\u001b[0m\n\u001b[0m                  ^\u001b[0m\n\u001b[0;31mSyntaxError\u001b[0m\u001b[0;31m:\u001b[0m invalid syntax\n"
     ]
    }
   ],
   "source": [
    "# Syntax error\n",
    "\n",
    "foods = ['pizza', 'naan', 'tacos']\n",
    "for x in foods\n",
    "    print(x)"
   ]
  },
  {
   "cell_type": "code",
   "execution_count": null,
   "metadata": {
    "collapsed": true
   },
   "outputs": [],
   "source": []
  }
 ],
 "metadata": {
  "kernelspec": {
   "display_name": "Python 2",
   "language": "python",
   "name": "python2"
  },
  "language_info": {
   "codemirror_mode": {
    "name": "ipython",
    "version": 2
   },
   "file_extension": ".py",
   "mimetype": "text/x-python",
   "name": "python",
   "nbconvert_exporter": "python",
   "pygments_lexer": "ipython2",
   "version": "2.7.13"
  }
 },
 "nbformat": 4,
 "nbformat_minor": 2
}
